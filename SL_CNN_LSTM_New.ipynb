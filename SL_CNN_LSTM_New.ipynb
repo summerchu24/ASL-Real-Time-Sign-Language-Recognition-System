{
 "cells": [
  {
   "cell_type": "code",
   "execution_count": 1,
   "id": "43a03514",
   "metadata": {},
   "outputs": [],
   "source": [
    "import cv2\n",
    "import numpy as np\n",
    "import pandas as pd\n",
    "import os\n",
    "from os.path import basename, join\n",
    "import glob\n",
    "from matplotlib import pyplot as plt\n",
    "import time\n",
    "from sklearn.model_selection import train_test_split\n",
    "import random\n",
    "\n",
    "from tensorflow import keras\n",
    "from keras.layers import LSTM\n",
    "from keras.layers import Dense\n",
    "from keras.layers import Bidirectional\n",
    "from keras.layers import Dropout\n",
    "from keras.layers import BatchNormalization\n",
    "from keras.layers import Flatten\n",
    "from keras.layers import Conv2D\n",
    "from keras.layers import MaxPooling2D\n",
    "from keras.layers import TimeDistributed\n",
    "from keras.layers import ConvLSTM2D\n",
    "from keras.layers import MaxPooling3D\n",
    "from tensorflow.keras.callbacks import TensorBoard\n",
    "from tensorflow.keras.utils import to_categorical\n",
    "\n",
    "import datetime\n",
    "import warnings\n",
    "warnings.simplefilter(action='ignore', category=FutureWarning)"
   ]
  },
  {
   "cell_type": "markdown",
   "id": "7249f10b",
   "metadata": {},
   "source": [
    "# Data Preprocess:"
   ]
  },
  {
   "cell_type": "code",
   "execution_count": 2,
   "id": "690c9e63",
   "metadata": {},
   "outputs": [],
   "source": [
    "def resize_frame(img):\n",
    "    size = img.shape[0]\n",
    "    start = int((img.shape[1]-img.shape[0])/2)\n",
    "    new_img = img[:,start:start+size,:]\n",
    "    new_img = cv2.resize(new_img, (64, 64))\n",
    "    return new_img"
   ]
  },
  {
   "cell_type": "code",
   "execution_count": 3,
   "id": "7da22caa",
   "metadata": {},
   "outputs": [],
   "source": [
    "def get_lists(folder):\n",
    "    name_list = []\n",
    "    path_list = []\n",
    "    label = []\n",
    "    num = 0\n",
    "    for i in glob.glob(join(folder, '*')):\n",
    "        name_list.append(basename(i))\n",
    "        for j in glob.glob(join(i, '*.mp4')):\n",
    "            path_list.append(j)\n",
    "            label.append(num)\n",
    "        num = num+1\n",
    "    return name_list, path_list, label"
   ]
  },
  {
   "cell_type": "code",
   "execution_count": 4,
   "id": "3e153cac",
   "metadata": {},
   "outputs": [],
   "source": [
    "def frame_select(frames):\n",
    "    result_frames = []\n",
    "    for i in range(10):\n",
    "        index = (i+1)*int(len(frames)/11)\n",
    "        result_frames.append(frames[index])\n",
    "    return result_frames"
   ]
  },
  {
   "cell_type": "code",
   "execution_count": 5,
   "id": "1a039ef8",
   "metadata": {},
   "outputs": [],
   "source": [
    "def frame_select_ex(frames, number):\n",
    "    result_frames = []\n",
    "    for i in range(10):\n",
    "        index = (i+1)*int(len(frames)/11) + int(number)\n",
    "        result_frames.append(frames[index])\n",
    "    return result_frames"
   ]
  },
  {
   "cell_type": "code",
   "execution_count": 6,
   "id": "b7ff3b5c",
   "metadata": {},
   "outputs": [],
   "source": [
    "def collect_data(path_list):\n",
    "    collect_df = []\n",
    "    \n",
    "    for tmp_path in path_list:\n",
    "        cap = cv2.VideoCapture(tmp_path)\n",
    "        tmp_df = []\n",
    "\n",
    "        while cap.isOpened():\n",
    "\n",
    "            # Read feed\n",
    "            ret, frame = cap.read()\n",
    "            if not ret:\n",
    "                break\n",
    "\n",
    "            \n",
    "            tmp_df.append(resize_frame(cv2.cvtColor(frame, cv2.COLOR_BGR2RGB)))\n",
    "\n",
    "        cap.release()\n",
    "        cv2.destroyAllWindows()\n",
    "        \n",
    "        tmp_df = frame_select(tmp_df)\n",
    "        collect_df.append(tmp_df)\n",
    "        \n",
    "    return collect_df"
   ]
  },
  {
   "cell_type": "code",
   "execution_count": 7,
   "id": "d011bea3",
   "metadata": {},
   "outputs": [],
   "source": [
    "def collect_data_ex(path_list, label):\n",
    "    collect_df = []\n",
    "    new_label = []\n",
    "    \n",
    "    i = 0\n",
    "    for tmp_path in path_list:\n",
    "        cap = cv2.VideoCapture(tmp_path)\n",
    "        tmp_df = []\n",
    "\n",
    "        while cap.isOpened():\n",
    "\n",
    "            # Read feed\n",
    "            ret, frame = cap.read()\n",
    "            if not ret:\n",
    "                break\n",
    "\n",
    "            \n",
    "            tmp_df.append(resize_frame(cv2.cvtColor(frame, cv2.COLOR_BGR2RGB)))\n",
    "\n",
    "        cap.release()\n",
    "        cv2.destroyAllWindows()\n",
    "        \n",
    "        for j in range(9):\n",
    "            tmp_df = frame_select_ex(tmp_df, j)\n",
    "            collect_df.append(tmp_df)\n",
    "            \n",
    "            new_label.append(label[i])\n",
    "        \n",
    "        i = i+1\n",
    "        \n",
    "    return collect_df, new_label"
   ]
  },
  {
   "cell_type": "code",
   "execution_count": 8,
   "id": "7cc963a0",
   "metadata": {},
   "outputs": [],
   "source": [
    "# cap = cv2.VideoCapture('train/apple/apple-2.mp4')\n",
    "# tmp_frames = []\n",
    "\n",
    "# while cap.isOpened():\n",
    "\n",
    "#     # Read feed\n",
    "#     ret, frame = cap.read()\n",
    "#     if not ret:\n",
    "#         break\n",
    "\n",
    "\n",
    "#     tmp_frames.append(resize_frame(cv2.cvtColor(frame, cv2.COLOR_BGR2RGB)))\n",
    "\n",
    "# cap.release()\n",
    "# cv2.destroyAllWindows()\n",
    "\n",
    "# tmp_frames = frame_select(tmp_frames)\n",
    "\n",
    "# len(tmp_frames)\n",
    "# plt.imshow(tmp_frames[10])\n",
    "# tmp_test = np.array(tmp_frames)\n",
    "# tmp_test.shape"
   ]
  },
  {
   "cell_type": "code",
   "execution_count": 35,
   "id": "03f77d63",
   "metadata": {},
   "outputs": [],
   "source": [
    "name_list, path_list, label = get_lists('new_self_data/')"
   ]
  },
  {
   "cell_type": "code",
   "execution_count": 36,
   "id": "95f82767",
   "metadata": {},
   "outputs": [
    {
     "data": {
      "text/plain": [
       "16"
      ]
     },
     "execution_count": 36,
     "metadata": {},
     "output_type": "execute_result"
    }
   ],
   "source": [
    "len(name_list)"
   ]
  },
  {
   "cell_type": "code",
   "execution_count": 37,
   "id": "1d7df96c",
   "metadata": {},
   "outputs": [
    {
     "data": {
      "text/plain": [
       "344"
      ]
     },
     "execution_count": 37,
     "metadata": {},
     "output_type": "execute_result"
    }
   ],
   "source": [
    "len(path_list)"
   ]
  },
  {
   "cell_type": "code",
   "execution_count": 38,
   "id": "fde030d1",
   "metadata": {},
   "outputs": [],
   "source": [
    "df = collect_data(path_list)"
   ]
  },
  {
   "cell_type": "code",
   "execution_count": 39,
   "id": "f97eaf2f",
   "metadata": {},
   "outputs": [
    {
     "data": {
      "text/plain": [
       "(344, 10, 64, 64, 3)"
      ]
     },
     "execution_count": 39,
     "metadata": {},
     "output_type": "execute_result"
    }
   ],
   "source": [
    "X = np.array(df)/225\n",
    "X.shape"
   ]
  },
  {
   "cell_type": "code",
   "execution_count": 40,
   "id": "28aec29e",
   "metadata": {},
   "outputs": [
    {
     "data": {
      "text/plain": [
       "(344,)"
      ]
     },
     "execution_count": 40,
     "metadata": {},
     "output_type": "execute_result"
    }
   ],
   "source": [
    "y = np.array(label)\n",
    "y.shape"
   ]
  },
  {
   "cell_type": "code",
   "execution_count": 41,
   "id": "3c17026e",
   "metadata": {},
   "outputs": [],
   "source": [
    "X_train, X_test, y_train, y_test = train_test_split(X, y, test_size=0.1, random_state=0)"
   ]
  },
  {
   "cell_type": "code",
   "execution_count": 42,
   "id": "2079b2c7",
   "metadata": {},
   "outputs": [
    {
     "data": {
      "text/plain": [
       "(35,)"
      ]
     },
     "execution_count": 42,
     "metadata": {},
     "output_type": "execute_result"
    }
   ],
   "source": [
    "y_test.shape"
   ]
  },
  {
   "cell_type": "markdown",
   "id": "96473269",
   "metadata": {},
   "source": [
    "## Extend Dataset:"
   ]
  },
  {
   "cell_type": "code",
   "execution_count": null,
   "id": "7758c032",
   "metadata": {},
   "outputs": [],
   "source": [
    "def select_train_test(folder):\n",
    "    name_list = []\n",
    "    train_list = []\n",
    "    test_list = []\n",
    "    train_label = []\n",
    "    test_label = []\n",
    "    \n",
    "    num = 0\n",
    "    for i in glob.glob(join(folder, '*')):\n",
    "        name_list.append(basename(i))\n",
    "        tmp_test = []\n",
    "        tmp_train = []\n",
    "        for j in glob.glob(join(i, '*.mp4')):\n",
    "            tmp_train.append(j)\n",
    "            train_label.append(num)\n",
    "        \n",
    "        tmp = random.choice(tmp_train)\n",
    "        tmp_test.append(tmp)\n",
    "        tmp_train.remove(tmp)\n",
    "        \n",
    "        train_list.extend(tmp_train)\n",
    "        test_list.extend(tmp_test)\n",
    "        test_label.append(num)\n",
    "        train_label.pop(-1)\n",
    "        \n",
    "        num = num+1\n",
    "        \n",
    "    return name_list, train_list, test_list, train_label, test_label"
   ]
  },
  {
   "cell_type": "code",
   "execution_count": null,
   "id": "bded987b",
   "metadata": {},
   "outputs": [],
   "source": [
    "name_list, train_list, test_list, train_label, test_label = select_train_test('train/')"
   ]
  },
  {
   "cell_type": "code",
   "execution_count": null,
   "id": "aa5211c3",
   "metadata": {},
   "outputs": [],
   "source": [
    "len(test_list)"
   ]
  },
  {
   "cell_type": "code",
   "execution_count": null,
   "id": "19cef6fb",
   "metadata": {},
   "outputs": [],
   "source": [
    "len(train_list)"
   ]
  },
  {
   "cell_type": "code",
   "execution_count": null,
   "id": "755bc2f9",
   "metadata": {},
   "outputs": [],
   "source": [
    "len(train_label)"
   ]
  },
  {
   "cell_type": "code",
   "execution_count": null,
   "id": "cd0484f2",
   "metadata": {},
   "outputs": [],
   "source": [
    "df_ex, label_ex = collect_data_ex(train_list, train_label)"
   ]
  },
  {
   "cell_type": "code",
   "execution_count": null,
   "id": "ee248fbf",
   "metadata": {},
   "outputs": [],
   "source": [
    "X_train = np.array(df_ex)/225\n",
    "X_train.shape"
   ]
  },
  {
   "cell_type": "code",
   "execution_count": null,
   "id": "d1592796",
   "metadata": {},
   "outputs": [],
   "source": [
    "y_train = np.array(label_ex)\n",
    "y_train.shape"
   ]
  },
  {
   "cell_type": "code",
   "execution_count": null,
   "id": "fcf72993",
   "metadata": {},
   "outputs": [],
   "source": [
    "test_df_ex, test_label_ex = collect_data_ex(test_list, test_label)\n",
    "X_test = np.array(test_df_ex)/225\n",
    "X_test.shape"
   ]
  },
  {
   "cell_type": "code",
   "execution_count": null,
   "id": "19a2da72",
   "metadata": {},
   "outputs": [],
   "source": [
    "y_test = np.array(test_label_ex)\n",
    "y_test.shape"
   ]
  },
  {
   "cell_type": "code",
   "execution_count": null,
   "id": "47510ea9",
   "metadata": {},
   "outputs": [],
   "source": [
    "X_test = collect_data(test_list)\n",
    "X_test = np.array(X_test)\n",
    "X_test.shape"
   ]
  },
  {
   "cell_type": "code",
   "execution_count": null,
   "id": "0c8e78a8",
   "metadata": {},
   "outputs": [],
   "source": [
    "y_test = np.array(test_label)\n",
    "y_test.shape"
   ]
  },
  {
   "cell_type": "markdown",
   "id": "9b9a658f",
   "metadata": {},
   "source": [
    "## Extend End\n",
    "### Note, this extension doesn't work. The extended dataset doesn't improve the classification of online videos. We finally only use the video that we record. To use our record dataset, only use the previous section with 'new_self_data/' as input for the get_lists() function. "
   ]
  },
  {
   "cell_type": "markdown",
   "id": "1908ebc9",
   "metadata": {},
   "source": [
    "# Model Training:"
   ]
  },
  {
   "cell_type": "code",
   "execution_count": null,
   "id": "7a73224c",
   "metadata": {},
   "outputs": [],
   "source": [
    "# # Use this when you didn't shuffle the X_train, since the validation only get the the last data:\n",
    "\n",
    "# temp = list(zip(X_train, y_train))\n",
    "# random.shuffle(temp)\n",
    "# res1, res2 = zip(*temp)\n",
    "# X_train, y_train = np.array(list(res1)), np.array(list(res2))\n",
    "# X_train.shape"
   ]
  },
  {
   "cell_type": "code",
   "execution_count": 80,
   "id": "9a1a7e5a",
   "metadata": {},
   "outputs": [
    {
     "name": "stdout",
     "output_type": "stream",
     "text": [
      "Model: \"sequential_24\"\n",
      "_________________________________________________________________\n",
      " Layer (type)                Output Shape              Param #   \n",
      "=================================================================\n",
      " time_distributed_152 (TimeD  (None, 10, 64, 64, 16)   448       \n",
      " istributed)                                                     \n",
      "                                                                 \n",
      " time_distributed_153 (TimeD  (None, 10, 32, 32, 16)   0         \n",
      " istributed)                                                     \n",
      "                                                                 \n",
      " dropout_104 (Dropout)       (None, 10, 32, 32, 16)    0         \n",
      "                                                                 \n",
      " time_distributed_154 (TimeD  (None, 10, 32, 32, 32)   4640      \n",
      " istributed)                                                     \n",
      "                                                                 \n",
      " time_distributed_155 (TimeD  (None, 10, 16, 16, 32)   0         \n",
      " istributed)                                                     \n",
      "                                                                 \n",
      " dropout_105 (Dropout)       (None, 10, 16, 16, 32)    0         \n",
      "                                                                 \n",
      " time_distributed_156 (TimeD  (None, 10, 16, 16, 64)   18496     \n",
      " istributed)                                                     \n",
      "                                                                 \n",
      " time_distributed_157 (TimeD  (None, 10, 8, 8, 64)     0         \n",
      " istributed)                                                     \n",
      "                                                                 \n",
      " time_distributed_158 (TimeD  (None, 10, 4096)         0         \n",
      " istributed)                                                     \n",
      "                                                                 \n",
      " dropout_106 (Dropout)       (None, 10, 4096)          0         \n",
      "                                                                 \n",
      " lstm_50 (LSTM)              (None, 64)                1065216   \n",
      "                                                                 \n",
      " dense_24 (Dense)            (None, 16)                1040      \n",
      "                                                                 \n",
      "=================================================================\n",
      "Total params: 1,089,840\n",
      "Trainable params: 1,089,840\n",
      "Non-trainable params: 0\n",
      "_________________________________________________________________\n"
     ]
    }
   ],
   "source": [
    "model = keras.Sequential([\n",
    "    TimeDistributed(Conv2D(16, (3, 3), padding=\"same\", activation=\"relu\"), input_shape = X_train.shape[1:]),\n",
    "    TimeDistributed(MaxPooling2D(pool_size=(2, 2))),\n",
    "    Dropout(0.2),\n",
    "    TimeDistributed(Conv2D(32, (3, 3), padding=\"same\", activation=\"relu\")),\n",
    "    TimeDistributed(MaxPooling2D(pool_size=(2, 2))),\n",
    "    Dropout(0.2),\n",
    "    TimeDistributed(Conv2D(64, (3, 3), padding=\"same\", activation=\"relu\")),\n",
    "    TimeDistributed(MaxPooling2D(pool_size=(2, 2))),\n",
    "    TimeDistributed(Flatten()),\n",
    "    Dropout(0.2),\n",
    "    \n",
    "#     LSTM(64, return_sequences=True, activation='relu'),\n",
    "#     Dropout(0.2),\n",
    "#     LSTM(32, return_sequences=True, activation='relu'),\n",
    "#     Dropout(0.2),\n",
    "    LSTM(64, return_sequences=False, activation='relu'),\n",
    "    \n",
    "    Dense(len(name_list), activation=\"softmax\"),\n",
    "])\n",
    "\n",
    "model.summary()"
   ]
  },
  {
   "cell_type": "code",
   "execution_count": 81,
   "id": "94796385",
   "metadata": {},
   "outputs": [
    {
     "name": "stdout",
     "output_type": "stream",
     "text": [
      "Epoch 1/10\n",
      "62/62 [==============================] - 8s 112ms/step - loss: 2.8276 - accuracy: 0.0526 - val_loss: 2.7699 - val_accuracy: 0.0484\n",
      "Epoch 2/10\n",
      "62/62 [==============================] - 6s 93ms/step - loss: 2.7392 - accuracy: 0.0810 - val_loss: 2.6299 - val_accuracy: 0.0484\n",
      "Epoch 3/10\n",
      "62/62 [==============================] - 6s 93ms/step - loss: 2.1339 - accuracy: 0.2753 - val_loss: 1.8430 - val_accuracy: 0.5484\n",
      "Epoch 4/10\n",
      "62/62 [==============================] - 6s 94ms/step - loss: 1.1934 - accuracy: 0.6235 - val_loss: 1.2012 - val_accuracy: 0.6290\n",
      "Epoch 5/10\n",
      "62/62 [==============================] - 6s 98ms/step - loss: 0.8041 - accuracy: 0.7409 - val_loss: 0.6773 - val_accuracy: 0.7742\n",
      "Epoch 6/10\n",
      "62/62 [==============================] - 7s 106ms/step - loss: 0.4740 - accuracy: 0.8462 - val_loss: 0.5339 - val_accuracy: 0.7903\n",
      "Epoch 7/10\n",
      "62/62 [==============================] - 6s 99ms/step - loss: 0.3222 - accuracy: 0.9028 - val_loss: 0.3365 - val_accuracy: 0.9194\n",
      "Epoch 8/10\n",
      "62/62 [==============================] - 6s 100ms/step - loss: 0.1881 - accuracy: 0.9474 - val_loss: 0.2995 - val_accuracy: 0.9355\n",
      "Epoch 9/10\n",
      "62/62 [==============================] - 6s 100ms/step - loss: 0.0930 - accuracy: 0.9636 - val_loss: 0.2361 - val_accuracy: 0.9516\n",
      "Epoch 10/10\n",
      "62/62 [==============================] - 6s 98ms/step - loss: 0.0613 - accuracy: 0.9798 - val_loss: 0.1816 - val_accuracy: 0.9677\n"
     ]
    }
   ],
   "source": [
    "# optimizer = keras.optimizers.Adam(learning_rate=0.0003)\n",
    "model.compile(optimizer='Adam', loss='sparse_categorical_crossentropy', metrics=['accuracy'])\n",
    "\n",
    "history = model.fit(X_train, y_train, epochs=10, batch_size = 4, shuffle = True, validation_split = 0.2)"
   ]
  },
  {
   "cell_type": "code",
   "execution_count": 82,
   "id": "003fcd1e",
   "metadata": {},
   "outputs": [
    {
     "name": "stdout",
     "output_type": "stream",
     "text": [
      "2/2 [==============================] - 0s 15ms/step - loss: 0.0788 - accuracy: 0.9714\n",
      "test acuracy: 0.9714285731315613\n"
     ]
    }
   ],
   "source": [
    "results = model.evaluate(X_test, y_test)\n",
    "print('test acuracy:',results[1])"
   ]
  },
  {
   "cell_type": "code",
   "execution_count": 85,
   "id": "708096cc",
   "metadata": {},
   "outputs": [
    {
     "name": "stdout",
     "output_type": "stream",
     "text": [
      "Test loss: 0.07882425934076309\n",
      "Test acuracy: 0.9714285731315613\n"
     ]
    }
   ],
   "source": [
    "print('Test loss:',results[0])\n",
    "print('Test acuracy:',results[1])"
   ]
  },
  {
   "cell_type": "code",
   "execution_count": 74,
   "id": "4e45ead1",
   "metadata": {},
   "outputs": [
    {
     "name": "stdout",
     "output_type": "stream",
     "text": [
      "Model: \"sequential_22\"\n",
      "_________________________________________________________________\n",
      " Layer (type)                Output Shape              Param #   \n",
      "=================================================================\n",
      " conv_lstm2d_12 (ConvLSTM2D)  (None, 10, 62, 62, 4)    1024      \n",
      "                                                                 \n",
      " max_pooling3d_12 (MaxPoolin  (None, 10, 31, 31, 4)    0         \n",
      " g3D)                                                            \n",
      "                                                                 \n",
      " time_distributed_142 (TimeD  (None, 10, 31, 31, 4)    0         \n",
      " istributed)                                                     \n",
      "                                                                 \n",
      " conv_lstm2d_13 (ConvLSTM2D)  (None, 10, 29, 29, 8)    3488      \n",
      "                                                                 \n",
      " max_pooling3d_13 (MaxPoolin  (None, 10, 15, 15, 8)    0         \n",
      " g3D)                                                            \n",
      "                                                                 \n",
      " time_distributed_143 (TimeD  (None, 10, 15, 15, 8)    0         \n",
      " istributed)                                                     \n",
      "                                                                 \n",
      " conv_lstm2d_14 (ConvLSTM2D)  (None, 10, 13, 13, 14)   11144     \n",
      "                                                                 \n",
      " max_pooling3d_14 (MaxPoolin  (None, 10, 7, 7, 14)     0         \n",
      " g3D)                                                            \n",
      "                                                                 \n",
      " time_distributed_144 (TimeD  (None, 10, 7, 7, 14)     0         \n",
      " istributed)                                                     \n",
      "                                                                 \n",
      " conv_lstm2d_15 (ConvLSTM2D)  (None, 10, 5, 5, 16)     17344     \n",
      "                                                                 \n",
      " max_pooling3d_15 (MaxPoolin  (None, 10, 3, 3, 16)     0         \n",
      " g3D)                                                            \n",
      "                                                                 \n",
      " flatten_22 (Flatten)        (None, 1440)              0         \n",
      "                                                                 \n",
      " dense_22 (Dense)            (None, 16)                23056     \n",
      "                                                                 \n",
      "=================================================================\n",
      "Total params: 56,056\n",
      "Trainable params: 56,056\n",
      "Non-trainable params: 0\n",
      "_________________________________________________________________\n"
     ]
    }
   ],
   "source": [
    "# This model2 refer to: https://bleedai.com/human-activity-recognition-using-tensorflow-cnn-lstm/\n",
    "\n",
    "model2 = keras.Sequential([\n",
    "    ConvLSTM2D(filters = 4, kernel_size = (3, 3), activation = 'tanh',data_format = \"channels_last\",\n",
    "                         recurrent_dropout=0.2, return_sequences=True, input_shape = X_train.shape[1:]), \n",
    "    MaxPooling3D(pool_size=(1, 2, 2), padding='same', data_format='channels_last'),\n",
    "    TimeDistributed(Dropout(0.2)), \n",
    "    ConvLSTM2D(filters = 8, kernel_size = (3, 3), activation = 'tanh', data_format = \"channels_last\",\n",
    "                         recurrent_dropout=0.2, return_sequences=True), \n",
    "    MaxPooling3D(pool_size=(1, 2, 2), padding='same', data_format='channels_last'), \n",
    "    TimeDistributed(Dropout(0.2)), \n",
    "    ConvLSTM2D(filters = 14, kernel_size = (3, 3), activation = 'tanh', data_format = \"channels_last\",\n",
    "                         recurrent_dropout=0.2, return_sequences=True), \n",
    "    MaxPooling3D(pool_size=(1, 2, 2), padding='same', data_format='channels_last'), \n",
    "    TimeDistributed(Dropout(0.2)), \n",
    "    ConvLSTM2D(filters = 16, kernel_size = (3, 3), activation = 'tanh', data_format = \"channels_last\",\n",
    "                         recurrent_dropout=0.2, return_sequences=True), \n",
    "    MaxPooling3D(pool_size=(1, 2, 2), padding='same', data_format='channels_last'), \n",
    "    Flatten(), \n",
    "    Dense(len(name_list), activation = \"softmax\"),\n",
    "])\n",
    "\n",
    "model2.summary()"
   ]
  },
  {
   "cell_type": "code",
   "execution_count": 75,
   "id": "4873a33c",
   "metadata": {},
   "outputs": [
    {
     "name": "stdout",
     "output_type": "stream",
     "text": [
      "Epoch 1/10\n",
      "62/62 [==============================] - 34s 434ms/step - loss: 2.7756 - accuracy: 0.0648 - val_loss: 2.7631 - val_accuracy: 0.0484\n",
      "Epoch 2/10\n",
      "62/62 [==============================] - 26s 415ms/step - loss: 2.6823 - accuracy: 0.1255 - val_loss: 2.0896 - val_accuracy: 0.5484\n",
      "Epoch 3/10\n",
      "62/62 [==============================] - 28s 449ms/step - loss: 1.5934 - accuracy: 0.4899 - val_loss: 1.1682 - val_accuracy: 0.6774\n",
      "Epoch 4/10\n",
      "62/62 [==============================] - 30s 478ms/step - loss: 0.7811 - accuracy: 0.7571 - val_loss: 0.7537 - val_accuracy: 0.8226\n",
      "Epoch 5/10\n",
      "62/62 [==============================] - 29s 473ms/step - loss: 0.6024 - accuracy: 0.7935 - val_loss: 0.4994 - val_accuracy: 0.8387\n",
      "Epoch 6/10\n",
      "62/62 [==============================] - 30s 479ms/step - loss: 0.3741 - accuracy: 0.8947 - val_loss: 0.5479 - val_accuracy: 0.8387\n",
      "Epoch 7/10\n",
      "62/62 [==============================] - 28s 460ms/step - loss: 0.2003 - accuracy: 0.9393 - val_loss: 0.3630 - val_accuracy: 0.8871\n",
      "Epoch 8/10\n",
      "62/62 [==============================] - 27s 435ms/step - loss: 0.2330 - accuracy: 0.9312 - val_loss: 0.2462 - val_accuracy: 0.9516\n",
      "Epoch 9/10\n",
      "62/62 [==============================] - 27s 434ms/step - loss: 0.1255 - accuracy: 0.9555 - val_loss: 0.2918 - val_accuracy: 0.9032\n",
      "Epoch 10/10\n",
      "62/62 [==============================] - 28s 461ms/step - loss: 0.1794 - accuracy: 0.9474 - val_loss: 0.2099 - val_accuracy: 0.9355\n"
     ]
    },
    {
     "data": {
      "text/plain": [
       "<keras.callbacks.History at 0x7f7fd9118a90>"
      ]
     },
     "execution_count": 75,
     "metadata": {},
     "output_type": "execute_result"
    }
   ],
   "source": [
    "model2.compile(optimizer='Adam', loss='sparse_categorical_crossentropy', metrics=['accuracy'])\n",
    "history2 = model2.fit(X_train, y_train, epochs = 10, batch_size = 4, shuffle = True, validation_split = 0.2)"
   ]
  },
  {
   "cell_type": "code",
   "execution_count": 76,
   "id": "4d947a07",
   "metadata": {},
   "outputs": [
    {
     "name": "stdout",
     "output_type": "stream",
     "text": [
      "2/2 [==============================] - 0s 50ms/step - loss: 0.0573 - accuracy: 0.9429\n",
      "test acuracy: 0.9428571462631226\n"
     ]
    }
   ],
   "source": [
    "results2 = model2.evaluate(X_test, y_test)\n",
    "print('test acuracy:',results2[1])"
   ]
  },
  {
   "cell_type": "markdown",
   "id": "5a91c126",
   "metadata": {},
   "source": [
    "### From the output we can see that the prediction result of the first model is slightly better than the second model, and the first model has less running time. So, I prefer the first model."
   ]
  },
  {
   "cell_type": "code",
   "execution_count": 84,
   "id": "cb3deb4e",
   "metadata": {},
   "outputs": [
    {
     "data": {
      "image/png": "[encoded data removed]",
      "text/plain": [
       "<Figure size 720x432 with 1 Axes>"
      ]
     },
     "metadata": {
      "needs_background": "light"
     },
     "output_type": "display_data"
    }
   ],
   "source": [
    "history_dict = history.history\n",
    "history_dict.keys()\n",
    "\n",
    "pd.DataFrame(history_dict).plot(figsize=(10,6))\n",
    "plt.grid(True)\n",
    "plt.gca().set_ylim(0, 2)\n",
    "plt.title('Accuracy and loss for both training and validation (model_1)', fontsize=16)\n",
    "plt.xlabel('Epochs', fontsize=16)\n",
    "plt.ylabel('Accuracy and loss percentage', rotation=90, fontsize=16)\n",
    "plt.show()"
   ]
  },
  {
   "cell_type": "code",
   "execution_count": null,
   "id": "2010132b",
   "metadata": {},
   "outputs": [],
   "source": []
  }
 ],
 "metadata": {
  "kernelspec": {
   "display_name": "Python 3 (ipykernel)",
   "language": "python",
   "name": "python3"
  },
  "language_info": {
   "codemirror_mode": {
    "name": "ipython",
    "version": 3
   },
   "file_extension": ".py",
   "mimetype": "text/x-python",
   "name": "python",
   "nbconvert_exporter": "python",
   "pygments_lexer": "ipython3",
   "version": "3.8.12"
  }
 },
 "nbformat": 4,
 "nbformat_minor": 5
}
