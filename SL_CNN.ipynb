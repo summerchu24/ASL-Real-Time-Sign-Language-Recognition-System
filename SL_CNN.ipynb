{
 "cells": [
  {
   "cell_type": "code",
   "execution_count": 125,
   "id": "c5abd8cd",
   "metadata": {},
   "outputs": [],
   "source": [
    "import cv2\n",
    "import numpy as np\n",
    "import pandas as pd\n",
    "import os\n",
    "from os.path import basename, join\n",
    "import glob\n",
    "from matplotlib import pyplot as plt\n",
    "import time\n",
    "from sklearn.model_selection import train_test_split\n",
    "\n",
    "from tensorflow import keras\n",
    "from keras.layers import LSTM\n",
    "from keras.layers import Dense\n",
    "from keras.layers import Bidirectional\n",
    "from keras.layers import Dropout\n",
    "from keras.layers import BatchNormalization\n",
    "from keras.layers import Flatten\n",
    "from keras.layers import Conv2D\n",
    "from keras.layers import MaxPooling2D\n",
    "from keras.layers import TimeDistributed\n",
    "from keras.layers import ConvLSTM2D\n",
    "from keras.layers import MaxPooling3D\n",
    "from tensorflow.keras.callbacks import TensorBoard\n",
    "from tensorflow.keras.utils import to_categorical\n",
    "\n",
    "import datetime\n",
    "import warnings\n",
    "warnings.simplefilter(action='ignore', category=FutureWarning)"
   ]
  },
  {
   "cell_type": "code",
   "execution_count": 172,
   "id": "f9664a88",
   "metadata": {},
   "outputs": [],
   "source": [
    "cap = cv2.VideoCapture('train/apple/apple-2.mp4')\n",
    "\n",
    "tmp_frames = []\n",
    "\n",
    "while cap.isOpened():\n",
    "\n",
    "    # Read feed\n",
    "    ret, frame = cap.read()\n",
    "    if not ret:\n",
    "        break\n",
    "\n",
    "\n",
    "    tmp_frames.append(resize_frame(cv2.cvtColor(frame, cv2.COLOR_BGR2RGB)))\n",
    "\n",
    "cap.release()\n",
    "cv2.destroyAllWindows()\n",
    "\n",
    "tmp_frames = frame_select(tmp_frames)"
   ]
  },
  {
   "cell_type": "code",
   "execution_count": 173,
   "id": "dd296ba5",
   "metadata": {},
   "outputs": [
    {
     "data": {
      "text/plain": [
       "20"
      ]
     },
     "execution_count": 173,
     "metadata": {},
     "output_type": "execute_result"
    }
   ],
   "source": [
    "len(tmp_frames)"
   ]
  },
  {
   "cell_type": "code",
   "execution_count": 174,
   "id": "5a577cc6",
   "metadata": {},
   "outputs": [
    {
     "data": {
      "text/plain": [
       "<matplotlib.image.AxesImage at 0x7f8f9fc5be20>"
      ]
     },
     "execution_count": 174,
     "metadata": {},
     "output_type": "execute_result"
    },
    {
     "data": {
      "image/png": "[encoded data removed]",
      "text/plain": [
       "<Figure size 432x288 with 1 Axes>"
      ]
     },
     "metadata": {
      "needs_background": "light"
     },
     "output_type": "display_data"
    }
   ],
   "source": [
    "plt.imshow(tmp_frames[10])"
   ]
  },
  {
   "cell_type": "code",
   "execution_count": 176,
   "id": "89e3e885",
   "metadata": {},
   "outputs": [
    {
     "data": {
      "text/plain": [
       "(20, 64, 64, 3)"
      ]
     },
     "execution_count": 176,
     "metadata": {},
     "output_type": "execute_result"
    }
   ],
   "source": [
    "tmp_test = np.array(tmp_frames)\n",
    "tmp_test.shape"
   ]
  },
  {
   "cell_type": "code",
   "execution_count": 155,
   "id": "f7511af2",
   "metadata": {},
   "outputs": [],
   "source": [
    "def resize_frame(img):\n",
    "    size = img.shape[0]\n",
    "    start = int((img.shape[1]-img.shape[0])/2)\n",
    "    new_img = img[:,start:start+size,:]\n",
    "    new_img = cv2.resize(new_img, (64, 64))\n",
    "    return new_img"
   ]
  },
  {
   "cell_type": "code",
   "execution_count": 156,
   "id": "4e2ba65f",
   "metadata": {},
   "outputs": [],
   "source": [
    "def get_lists(folder):\n",
    "    name_list = []\n",
    "    path_list = []\n",
    "    label = []\n",
    "    num = 0\n",
    "    for i in glob.glob(join(folder, '*')):\n",
    "        name_list.append(basename(i))\n",
    "        for j in glob.glob(join(i, '*.mp4')):\n",
    "            path_list.append(j)\n",
    "            label.append(num)\n",
    "        num = num+1\n",
    "    return name_list, path_list, label"
   ]
  },
  {
   "cell_type": "code",
   "execution_count": 157,
   "id": "317b4b32",
   "metadata": {},
   "outputs": [],
   "source": [
    "def frame_select(frames):\n",
    "    result_frames = []\n",
    "    for i in range(20):\n",
    "        index = (i+1)*int(len(frames)/21)\n",
    "        result_frames.append(frames[index])\n",
    "    return result_frames"
   ]
  },
  {
   "cell_type": "code",
   "execution_count": 195,
   "id": "5df032ac",
   "metadata": {},
   "outputs": [],
   "source": [
    "def frame_select_ex(frames, number):\n",
    "    result_frames = []\n",
    "    for i in range(10):\n",
    "        index = (i+1)*int(len(frames)/11) + int(number)\n",
    "        result_frames.append(frames[index])\n",
    "    return result_frames"
   ]
  },
  {
   "cell_type": "code",
   "execution_count": 196,
   "id": "42aef57a",
   "metadata": {},
   "outputs": [],
   "source": [
    "def collect_data(path_list):\n",
    "    collect_df = []\n",
    "    \n",
    "    for tmp_path in path_list:\n",
    "        cap = cv2.VideoCapture(tmp_path)\n",
    "        tmp_df = []\n",
    "\n",
    "        while cap.isOpened():\n",
    "\n",
    "            # Read feed\n",
    "            ret, frame = cap.read()\n",
    "            if not ret:\n",
    "                break\n",
    "\n",
    "            \n",
    "            tmp_df.append(resize_frame(cv2.cvtColor(frame, cv2.COLOR_BGR2RGB)))\n",
    "\n",
    "        cap.release()\n",
    "        cv2.destroyAllWindows()\n",
    "        \n",
    "        tmp_df = frame_select(tmp_df)\n",
    "        collect_df.append(tmp_df)\n",
    "        \n",
    "    return collect_df"
   ]
  },
  {
   "cell_type": "code",
   "execution_count": 197,
   "id": "228b0009",
   "metadata": {},
   "outputs": [],
   "source": [
    "def collect_data_ex(path_list, label):\n",
    "    collect_df = []\n",
    "    new_label = []\n",
    "    \n",
    "    i = 0\n",
    "    for tmp_path in path_list:\n",
    "        cap = cv2.VideoCapture(tmp_path)\n",
    "        tmp_df = []\n",
    "\n",
    "        while cap.isOpened():\n",
    "\n",
    "            # Read feed\n",
    "            ret, frame = cap.read()\n",
    "            if not ret:\n",
    "                break\n",
    "\n",
    "            \n",
    "            tmp_df.append(resize_frame(cv2.cvtColor(frame, cv2.COLOR_BGR2RGB)))\n",
    "\n",
    "        cap.release()\n",
    "        cv2.destroyAllWindows()\n",
    "        \n",
    "        for j in range(9):\n",
    "            tmp_df = frame_select_ex(tmp_df, j)\n",
    "            collect_df.append(tmp_df)\n",
    "            \n",
    "            new_label.append(label[i])\n",
    "        \n",
    "        i = i+1\n",
    "        \n",
    "    return collect_df, new_label"
   ]
  },
  {
   "cell_type": "code",
   "execution_count": 159,
   "id": "ad2ab17b",
   "metadata": {},
   "outputs": [],
   "source": [
    "name_list, path_list, label = get_lists('self_data/')"
   ]
  },
  {
   "cell_type": "code",
   "execution_count": 160,
   "id": "cc8b21cb",
   "metadata": {},
   "outputs": [
    {
     "data": {
      "text/plain": [
       "5"
      ]
     },
     "execution_count": 160,
     "metadata": {},
     "output_type": "execute_result"
    }
   ],
   "source": [
    "len(name_list)"
   ]
  },
  {
   "cell_type": "code",
   "execution_count": 161,
   "id": "eb3d2177",
   "metadata": {},
   "outputs": [
    {
     "data": {
      "text/plain": [
       "107"
      ]
     },
     "execution_count": 161,
     "metadata": {},
     "output_type": "execute_result"
    }
   ],
   "source": [
    "len(path_list)"
   ]
  },
  {
   "cell_type": "code",
   "execution_count": 162,
   "id": "57c5b7f9",
   "metadata": {},
   "outputs": [],
   "source": [
    "df = collect_data(path_list)"
   ]
  },
  {
   "cell_type": "code",
   "execution_count": 163,
   "id": "309f4cbf",
   "metadata": {},
   "outputs": [
    {
     "data": {
      "text/plain": [
       "(107, 20, 64, 64, 3)"
      ]
     },
     "execution_count": 163,
     "metadata": {},
     "output_type": "execute_result"
    }
   ],
   "source": [
    "X = np.array(df)/225\n",
    "X.shape"
   ]
  },
  {
   "cell_type": "code",
   "execution_count": 164,
   "id": "86c212ae",
   "metadata": {},
   "outputs": [
    {
     "data": {
      "text/plain": [
       "(107,)"
      ]
     },
     "execution_count": 164,
     "metadata": {},
     "output_type": "execute_result"
    }
   ],
   "source": [
    "y = np.array(label)\n",
    "y.shape"
   ]
  },
  {
   "cell_type": "code",
   "execution_count": 165,
   "id": "2e8d777d",
   "metadata": {},
   "outputs": [],
   "source": [
    "X_train, X_test, y_train, y_test = train_test_split(X, y, test_size=0.1, random_state=0)"
   ]
  },
  {
   "cell_type": "code",
   "execution_count": 166,
   "id": "bbec6992",
   "metadata": {},
   "outputs": [
    {
     "data": {
      "text/plain": [
       "(11,)"
      ]
     },
     "execution_count": 166,
     "metadata": {},
     "output_type": "execute_result"
    }
   ],
   "source": [
    "y_test.shape"
   ]
  },
  {
   "cell_type": "markdown",
   "id": "e3f3f9f9",
   "metadata": {},
   "source": [
    "## ex dataset:"
   ]
  },
  {
   "cell_type": "code",
   "execution_count": 198,
   "id": "ee1fcf07",
   "metadata": {},
   "outputs": [],
   "source": [
    "name_list, path_list, label = get_lists('train/')"
   ]
  },
  {
   "cell_type": "code",
   "execution_count": 199,
   "id": "68977026",
   "metadata": {},
   "outputs": [
    {
     "data": {
      "text/plain": [
       "11"
      ]
     },
     "execution_count": 199,
     "metadata": {},
     "output_type": "execute_result"
    }
   ],
   "source": [
    "len(name_list)"
   ]
  },
  {
   "cell_type": "code",
   "execution_count": 200,
   "id": "7f9a1b1a",
   "metadata": {},
   "outputs": [],
   "source": [
    "df_ex, label_ex = collect_data_ex(path_list, label)"
   ]
  },
  {
   "cell_type": "code",
   "execution_count": 201,
   "id": "c4db076e",
   "metadata": {},
   "outputs": [
    {
     "data": {
      "text/plain": [
       "(531, 10, 64, 64, 3)"
      ]
     },
     "execution_count": 201,
     "metadata": {},
     "output_type": "execute_result"
    }
   ],
   "source": [
    "X = np.array(df_ex)\n",
    "X.shape"
   ]
  },
  {
   "cell_type": "code",
   "execution_count": 202,
   "id": "54913ada",
   "metadata": {},
   "outputs": [
    {
     "data": {
      "text/plain": [
       "(531,)"
      ]
     },
     "execution_count": 202,
     "metadata": {},
     "output_type": "execute_result"
    }
   ],
   "source": [
    "y = np.array(label_ex)\n",
    "y.shape"
   ]
  },
  {
   "cell_type": "code",
   "execution_count": 203,
   "id": "54a8d232",
   "metadata": {},
   "outputs": [],
   "source": [
    "X_train, X_test, y_train, y_test = train_test_split(X, y, test_size=0.1, random_state=0)"
   ]
  },
  {
   "cell_type": "code",
   "execution_count": 204,
   "id": "2d7a8a77",
   "metadata": {},
   "outputs": [
    {
     "data": {
      "text/plain": [
       "(54,)"
      ]
     },
     "execution_count": 204,
     "metadata": {},
     "output_type": "execute_result"
    }
   ],
   "source": [
    "y_test.shape"
   ]
  },
  {
   "cell_type": "markdown",
   "id": "6de6d790",
   "metadata": {},
   "source": [
    "## ex End"
   ]
  },
  {
   "cell_type": "code",
   "execution_count": 121,
   "id": "d3d95fce",
   "metadata": {},
   "outputs": [],
   "source": [
    "model = keras.Sequential([\n",
    "    TimeDistributed(Conv2D(32, (3, 3), padding=\"same\", activation=\"relu\"), input_shape = X.shape[1:]),\n",
    "    TimeDistributed(MaxPooling2D(pool_size=(2, 2))),\n",
    "#     Dropout(0.2),\n",
    "    TimeDistributed(Conv2D(64, (3, 3), padding=\"same\", activation=\"relu\")),\n",
    "    TimeDistributed(MaxPooling2D(pool_size=(2, 2))),\n",
    "#     Dropout(0.2),\n",
    "    TimeDistributed(Conv2D(128, (3, 3), padding=\"same\", activation=\"relu\")),\n",
    "    TimeDistributed(MaxPooling2D(pool_size=(2, 2))),\n",
    "    \n",
    "    TimeDistributed(Flatten()),\n",
    "    \n",
    "    LSTM(128, return_sequences=True, activation='relu'),\n",
    "    LSTM(64, return_sequences=True, activation='relu'),\n",
    "    LSTM(32, return_sequences=False, activation='relu'),\n",
    "    \n",
    "#     Dense(32, activation=\"relu\"),\n",
    "#     Dropout(0.2),\n",
    "    Dense(len(name_list), activation=\"softmax\"),\n",
    "])\n",
    "\n",
    "# optimizer = keras.optimizers.Adam(learning_rate=0.0003)\n",
    "model.compile(optimizer='Adam', loss='sparse_categorical_crossentropy', metrics=['accuracy'])"
   ]
  },
  {
   "cell_type": "code",
   "execution_count": 122,
   "id": "ccfac0b3",
   "metadata": {},
   "outputs": [
    {
     "name": "stdout",
     "output_type": "stream",
     "text": [
      "Epoch 1/100\n",
      "2/2 [==============================] - 6s 2s/step - loss: 2.3986 - accuracy: 0.1094\n",
      "Epoch 2/100\n",
      "2/2 [==============================] - 3s 2s/step - loss: 2.3955 - accuracy: 0.1250\n",
      "Epoch 3/100\n",
      "2/2 [==============================] - 3s 2s/step - loss: 2.3917 - accuracy: 0.0781\n",
      "Epoch 4/100\n",
      "2/2 [==============================] - 3s 2s/step - loss: 2.3845 - accuracy: 0.1719\n",
      "Epoch 5/100\n",
      "2/2 [==============================] - 4s 2s/step - loss: 2.3711 - accuracy: 0.2344\n",
      "Epoch 6/100\n",
      "2/2 [==============================] - 3s 1s/step - loss: 2.3684 - accuracy: 0.1406\n",
      "Epoch 7/100\n",
      "2/2 [==============================] - 3s 1s/step - loss: 2.3132 - accuracy: 0.1406\n",
      "Epoch 8/100\n",
      "2/2 [==============================] - 3s 1s/step - loss: 2.3410 - accuracy: 0.2031\n",
      "Epoch 9/100\n",
      "2/2 [==============================] - 3s 1s/step - loss: 2.2740 - accuracy: 0.2188\n",
      "Epoch 10/100\n",
      "2/2 [==============================] - 3s 1s/step - loss: 2.3368 - accuracy: 0.1250\n",
      "Epoch 11/100\n",
      "2/2 [==============================] - 3s 1s/step - loss: 2.2933 - accuracy: 0.2500\n",
      "Epoch 12/100\n",
      "2/2 [==============================] - 3s 1s/step - loss: 2.3153 - accuracy: 0.2500\n",
      "Epoch 13/100\n",
      "2/2 [==============================] - 4s 2s/step - loss: 2.2903 - accuracy: 0.2500\n",
      "Epoch 14/100\n",
      "2/2 [==============================] - 4s 2s/step - loss: 2.2718 - accuracy: 0.2031\n",
      "Epoch 15/100\n",
      "2/2 [==============================] - 4s 2s/step - loss: 2.1634 - accuracy: 0.2500\n",
      "Epoch 16/100\n",
      "2/2 [==============================] - 4s 2s/step - loss: 2.1525 - accuracy: 0.2188\n",
      "Epoch 17/100\n",
      "2/2 [==============================] - 4s 2s/step - loss: 2.2380 - accuracy: 0.2188\n",
      "Epoch 18/100\n",
      "2/2 [==============================] - 3s 2s/step - loss: 2.1419 - accuracy: 0.2656\n",
      "Epoch 19/100\n",
      "2/2 [==============================] - 3s 2s/step - loss: 2.2753 - accuracy: 0.2344\n",
      "Epoch 20/100\n",
      "2/2 [==============================] - 4s 2s/step - loss: 2.3086 - accuracy: 0.2344\n",
      "Epoch 21/100\n",
      "2/2 [==============================] - 3s 2s/step - loss: 2.3058 - accuracy: 0.2188\n",
      "Epoch 22/100\n",
      "2/2 [==============================] - 3s 2s/step - loss: 2.2869 - accuracy: 0.2188\n",
      "Epoch 23/100\n",
      "2/2 [==============================] - 4s 2s/step - loss: 2.2534 - accuracy: 0.2188\n",
      "Epoch 24/100\n",
      "2/2 [==============================] - 3s 2s/step - loss: 2.2180 - accuracy: 0.1875\n",
      "Epoch 25/100\n",
      "2/2 [==============================] - 3s 2s/step - loss: 2.1668 - accuracy: 0.2031\n",
      "Epoch 26/100\n",
      "2/2 [==============================] - 4s 2s/step - loss: 2.1030 - accuracy: 0.2344\n",
      "Epoch 27/100\n",
      "2/2 [==============================] - 3s 2s/step - loss: 2.0592 - accuracy: 0.3125\n",
      "Epoch 28/100\n",
      "2/2 [==============================] - 3s 2s/step - loss: 2.2060 - accuracy: 0.2969\n",
      "Epoch 29/100\n",
      "2/2 [==============================] - 3s 2s/step - loss: 2.0750 - accuracy: 0.2656\n",
      "Epoch 30/100\n",
      "2/2 [==============================] - 3s 2s/step - loss: 2.1436 - accuracy: 0.2500\n",
      "Epoch 31/100\n",
      "2/2 [==============================] - 4s 2s/step - loss: 2.1328 - accuracy: 0.2344\n",
      "Epoch 32/100\n",
      "2/2 [==============================] - 5s 2s/step - loss: 2.0571 - accuracy: 0.2656\n",
      "Epoch 33/100\n",
      "2/2 [==============================] - 4s 2s/step - loss: 2.0064 - accuracy: 0.2812\n",
      "Epoch 34/100\n",
      "2/2 [==============================] - 4s 2s/step - loss: 1.9417 - accuracy: 0.2344\n",
      "Epoch 35/100\n",
      "2/2 [==============================] - 4s 2s/step - loss: 1.7051 - accuracy: 0.3438\n",
      "Epoch 36/100\n",
      "2/2 [==============================] - 4s 2s/step - loss: 2.0346 - accuracy: 0.3906\n",
      "Epoch 37/100\n",
      "2/2 [==============================] - 3s 1s/step - loss: 1.8309 - accuracy: 0.4062\n",
      "Epoch 38/100\n",
      "2/2 [==============================] - 3s 2s/step - loss: 1.7914 - accuracy: 0.3750\n",
      "Epoch 39/100\n",
      "2/2 [==============================] - 3s 1s/step - loss: 1.6934 - accuracy: 0.4375\n",
      "Epoch 40/100\n",
      "2/2 [==============================] - 3s 2s/step - loss: 1.6963 - accuracy: 0.4062\n",
      "Epoch 41/100\n",
      "2/2 [==============================] - 4s 2s/step - loss: 1.5912 - accuracy: 0.4531\n",
      "Epoch 42/100\n",
      "2/2 [==============================] - 3s 2s/step - loss: 1.6882 - accuracy: 0.3906\n",
      "Epoch 43/100\n",
      "2/2 [==============================] - 4s 2s/step - loss: 1.6579 - accuracy: 0.3594\n",
      "Epoch 44/100\n",
      "2/2 [==============================] - 4s 2s/step - loss: 1.5844 - accuracy: 0.4688\n",
      "Epoch 45/100\n",
      "2/2 [==============================] - 3s 2s/step - loss: 1.4249 - accuracy: 0.5156\n",
      "Epoch 46/100\n",
      "2/2 [==============================] - 4s 2s/step - loss: 1.2085 - accuracy: 0.5625\n",
      "Epoch 47/100\n",
      "2/2 [==============================] - 4s 2s/step - loss: 1.2711 - accuracy: 0.5625\n",
      "Epoch 48/100\n",
      "2/2 [==============================] - 3s 2s/step - loss: 1.2303 - accuracy: 0.5625\n",
      "Epoch 49/100\n",
      "2/2 [==============================] - 4s 2s/step - loss: 1.3367 - accuracy: 0.5469\n",
      "Epoch 50/100\n",
      "2/2 [==============================] - 3s 2s/step - loss: 1.6232 - accuracy: 0.5000\n",
      "Epoch 51/100\n",
      "2/2 [==============================] - 4s 2s/step - loss: 1.5127 - accuracy: 0.5938\n",
      "Epoch 52/100\n",
      "2/2 [==============================] - 4s 2s/step - loss: 1.7517 - accuracy: 0.5000\n",
      "Epoch 53/100\n",
      "2/2 [==============================] - 4s 2s/step - loss: 1.5436 - accuracy: 0.4688\n",
      "Epoch 54/100\n",
      "2/2 [==============================] - 4s 2s/step - loss: 1.4218 - accuracy: 0.4688\n",
      "Epoch 55/100\n",
      "2/2 [==============================] - 4s 2s/step - loss: 1.2282 - accuracy: 0.5312\n",
      "Epoch 56/100\n",
      "2/2 [==============================] - 4s 2s/step - loss: 1.1426 - accuracy: 0.6250\n",
      "Epoch 57/100\n",
      "2/2 [==============================] - 4s 2s/step - loss: 1.0564 - accuracy: 0.5625\n",
      "Epoch 58/100\n",
      "2/2 [==============================] - 4s 2s/step - loss: 1.1023 - accuracy: 0.6406\n",
      "Epoch 59/100\n",
      "2/2 [==============================] - 4s 2s/step - loss: 1.6195 - accuracy: 0.5469\n",
      "Epoch 60/100\n",
      "2/2 [==============================] - 3s 2s/step - loss: 1.3183 - accuracy: 0.6094\n",
      "Epoch 61/100\n",
      "2/2 [==============================] - 4s 2s/step - loss: 1.7901 - accuracy: 0.3594\n",
      "Epoch 62/100\n",
      "2/2 [==============================] - 3s 2s/step - loss: 1.7723 - accuracy: 0.4219\n",
      "Epoch 63/100\n",
      "2/2 [==============================] - 4s 2s/step - loss: 1.6566 - accuracy: 0.4844\n",
      "Epoch 64/100\n",
      "2/2 [==============================] - 4s 2s/step - loss: 1.4115 - accuracy: 0.5312\n",
      "Epoch 65/100\n",
      "2/2 [==============================] - 4s 2s/step - loss: 1.4378 - accuracy: 0.5156\n",
      "Epoch 66/100\n",
      "2/2 [==============================] - 4s 2s/step - loss: 1.1862 - accuracy: 0.5938\n",
      "Epoch 67/100\n",
      "2/2 [==============================] - 4s 2s/step - loss: 1.1520 - accuracy: 0.6406\n",
      "Epoch 68/100\n",
      "2/2 [==============================] - 4s 2s/step - loss: 1.1782 - accuracy: 0.6406\n",
      "Epoch 69/100\n",
      "2/2 [==============================] - 3s 1s/step - loss: 1.0398 - accuracy: 0.6562\n",
      "Epoch 70/100\n",
      "2/2 [==============================] - 3s 1s/step - loss: 0.9507 - accuracy: 0.6562\n",
      "Epoch 71/100\n",
      "2/2 [==============================] - 4s 2s/step - loss: 0.8666 - accuracy: 0.6875\n",
      "Epoch 72/100\n",
      "2/2 [==============================] - 4s 2s/step - loss: 0.8013 - accuracy: 0.7031\n",
      "Epoch 73/100\n",
      "2/2 [==============================] - 4s 2s/step - loss: 0.7487 - accuracy: 0.7500\n",
      "Epoch 74/100\n",
      "2/2 [==============================] - 4s 2s/step - loss: 0.6675 - accuracy: 0.8125\n",
      "Epoch 75/100\n",
      "2/2 [==============================] - 4s 2s/step - loss: 0.6055 - accuracy: 0.7969\n",
      "Epoch 76/100\n",
      "2/2 [==============================] - 3s 2s/step - loss: 0.5351 - accuracy: 0.8281\n",
      "Epoch 77/100\n",
      "2/2 [==============================] - 4s 2s/step - loss: 0.5556 - accuracy: 0.8750\n",
      "Epoch 78/100\n",
      "2/2 [==============================] - 4s 2s/step - loss: 0.6653 - accuracy: 0.7969\n",
      "Epoch 79/100\n",
      "2/2 [==============================] - 3s 2s/step - loss: 1.3411 - accuracy: 0.7188\n",
      "Epoch 80/100\n",
      "2/2 [==============================] - 3s 2s/step - loss: 1.0718 - accuracy: 0.7812\n",
      "Epoch 81/100\n",
      "2/2 [==============================] - 3s 2s/step - loss: 1.2756 - accuracy: 0.7188\n",
      "Epoch 82/100\n",
      "2/2 [==============================] - 4s 2s/step - loss: 1.1764 - accuracy: 0.6719\n",
      "Epoch 83/100\n",
      "2/2 [==============================] - 4s 2s/step - loss: 1.0437 - accuracy: 0.6562\n",
      "Epoch 84/100\n",
      "2/2 [==============================] - 4s 2s/step - loss: 1.0028 - accuracy: 0.6562\n",
      "Epoch 85/100\n"
     ]
    },
    {
     "name": "stdout",
     "output_type": "stream",
     "text": [
      "2/2 [==============================] - 3s 2s/step - loss: 1.1950 - accuracy: 0.6250\n",
      "Epoch 86/100\n",
      "2/2 [==============================] - 3s 2s/step - loss: 1.2093 - accuracy: 0.6094\n",
      "Epoch 87/100\n",
      "2/2 [==============================] - 3s 2s/step - loss: 1.0889 - accuracy: 0.6875\n",
      "Epoch 88/100\n",
      "2/2 [==============================] - 3s 1s/step - loss: 0.9725 - accuracy: 0.6719\n",
      "Epoch 89/100\n",
      "2/2 [==============================] - 3s 2s/step - loss: 0.8556 - accuracy: 0.6719\n",
      "Epoch 90/100\n",
      "2/2 [==============================] - 3s 1s/step - loss: 0.8159 - accuracy: 0.7188\n",
      "Epoch 91/100\n",
      "2/2 [==============================] - 3s 1s/step - loss: 0.8834 - accuracy: 0.7812\n",
      "Epoch 92/100\n",
      "2/2 [==============================] - 3s 1s/step - loss: 0.9037 - accuracy: 0.6719\n",
      "Epoch 93/100\n",
      "2/2 [==============================] - 3s 1s/step - loss: 1.1296 - accuracy: 0.6406\n",
      "Epoch 94/100\n",
      "2/2 [==============================] - 3s 2s/step - loss: 2.4126 - accuracy: 0.5625\n",
      "Epoch 95/100\n",
      "2/2 [==============================] - 3s 2s/step - loss: 1.2622 - accuracy: 0.7344\n",
      "Epoch 96/100\n",
      "2/2 [==============================] - 3s 2s/step - loss: 1.3560 - accuracy: 0.7188\n",
      "Epoch 97/100\n",
      "2/2 [==============================] - 3s 2s/step - loss: 1.3021 - accuracy: 0.6719\n",
      "Epoch 98/100\n",
      "2/2 [==============================] - 3s 2s/step - loss: 1.1698 - accuracy: 0.5625\n",
      "Epoch 99/100\n",
      "2/2 [==============================] - 3s 2s/step - loss: 1.1011 - accuracy: 0.5938\n",
      "Epoch 100/100\n",
      "2/2 [==============================] - 3s 2s/step - loss: 0.9329 - accuracy: 0.6875\n"
     ]
    }
   ],
   "source": [
    "history = model.fit(X_train, y_train, epochs=100, batch_size = 32)"
   ]
  },
  {
   "cell_type": "code",
   "execution_count": 123,
   "id": "c2cf5732",
   "metadata": {},
   "outputs": [
    {
     "name": "stdout",
     "output_type": "stream",
     "text": [
      "1/1 [==============================] - 1s 712ms/step - loss: 3.2476 - accuracy: 0.1250\n",
      "test acuracy: 0.125\n"
     ]
    }
   ],
   "source": [
    "results = model.evaluate(X_test, y_test)\n",
    "print('test acuracy:',results[1])"
   ]
  },
  {
   "cell_type": "code",
   "execution_count": 208,
   "id": "dc72959b",
   "metadata": {},
   "outputs": [
    {
     "name": "stdout",
     "output_type": "stream",
     "text": [
      "Model: \"sequential_13\"\n",
      "_________________________________________________________________\n",
      " Layer (type)                Output Shape              Param #   \n",
      "=================================================================\n",
      " conv_lstm2d_20 (ConvLSTM2D)  (None, 10, 62, 62, 4)    1024      \n",
      "                                                                 \n",
      " max_pooling3d_20 (MaxPoolin  (None, 10, 31, 31, 4)    0         \n",
      " g3D)                                                            \n",
      "                                                                 \n",
      " time_distributed_70 (TimeDi  (None, 10, 31, 31, 4)    0         \n",
      " stributed)                                                      \n",
      "                                                                 \n",
      " conv_lstm2d_21 (ConvLSTM2D)  (None, 10, 29, 29, 8)    3488      \n",
      "                                                                 \n",
      " max_pooling3d_21 (MaxPoolin  (None, 10, 15, 15, 8)    0         \n",
      " g3D)                                                            \n",
      "                                                                 \n",
      " time_distributed_71 (TimeDi  (None, 10, 15, 15, 8)    0         \n",
      " stributed)                                                      \n",
      "                                                                 \n",
      " conv_lstm2d_22 (ConvLSTM2D)  (None, 10, 13, 13, 14)   11144     \n",
      "                                                                 \n",
      " max_pooling3d_22 (MaxPoolin  (None, 10, 7, 7, 14)     0         \n",
      " g3D)                                                            \n",
      "                                                                 \n",
      " time_distributed_72 (TimeDi  (None, 10, 7, 7, 14)     0         \n",
      " stributed)                                                      \n",
      "                                                                 \n",
      " conv_lstm2d_23 (ConvLSTM2D)  (None, 10, 5, 5, 16)     17344     \n",
      "                                                                 \n",
      " max_pooling3d_23 (MaxPoolin  (None, 10, 3, 3, 16)     0         \n",
      " g3D)                                                            \n",
      "                                                                 \n",
      " flatten_13 (Flatten)        (None, 1440)              0         \n",
      "                                                                 \n",
      " dense_17 (Dense)            (None, 11)                15851     \n",
      "                                                                 \n",
      "=================================================================\n",
      "Total params: 48,851\n",
      "Trainable params: 48,851\n",
      "Non-trainable params: 0\n",
      "_________________________________________________________________\n"
     ]
    }
   ],
   "source": [
    "model2 = keras.Sequential([\n",
    "    ConvLSTM2D(filters = 4, kernel_size = (3, 3), activation = 'tanh',data_format = \"channels_last\",\n",
    "                         recurrent_dropout=0.2, return_sequences=True, input_shape = X.shape[1:]), \n",
    "    MaxPooling3D(pool_size=(1, 2, 2), padding='same', data_format='channels_last'),\n",
    "    TimeDistributed(Dropout(0.2)), \n",
    "    ConvLSTM2D(filters = 8, kernel_size = (3, 3), activation = 'tanh', data_format = \"channels_last\",\n",
    "                         recurrent_dropout=0.2, return_sequences=True), \n",
    "    MaxPooling3D(pool_size=(1, 2, 2), padding='same', data_format='channels_last'), \n",
    "    TimeDistributed(Dropout(0.2)), \n",
    "    ConvLSTM2D(filters = 14, kernel_size = (3, 3), activation = 'tanh', data_format = \"channels_last\",\n",
    "                         recurrent_dropout=0.2, return_sequences=True), \n",
    "    MaxPooling3D(pool_size=(1, 2, 2), padding='same', data_format='channels_last'), \n",
    "    TimeDistributed(Dropout(0.2)), \n",
    "    ConvLSTM2D(filters = 16, kernel_size = (3, 3), activation = 'tanh', data_format = \"channels_last\",\n",
    "                         recurrent_dropout=0.2, return_sequences=True), \n",
    "    MaxPooling3D(pool_size=(1, 2, 2), padding='same', data_format='channels_last'), \n",
    "    Flatten(), \n",
    "    Dense(len(name_list), activation = \"softmax\"),\n",
    "])\n",
    "\n",
    "model2.summary()"
   ]
  },
  {
   "cell_type": "code",
   "execution_count": 209,
   "id": "23fcfb95",
   "metadata": {},
   "outputs": [
    {
     "name": "stdout",
     "output_type": "stream",
     "text": [
      "Epoch 1/10\n",
      "96/96 [==============================] - 44s 389ms/step - loss: 2.3564 - accuracy: 0.1680 - val_loss: 2.2301 - val_accuracy: 0.2188\n",
      "Epoch 2/10\n",
      "96/96 [==============================] - 39s 402ms/step - loss: 1.9113 - accuracy: 0.3570 - val_loss: 1.6376 - val_accuracy: 0.4375\n",
      "Epoch 3/10\n",
      "96/96 [==============================] - 38s 398ms/step - loss: 1.6272 - accuracy: 0.4488 - val_loss: 1.7407 - val_accuracy: 0.5417\n",
      "Epoch 4/10\n",
      "96/96 [==============================] - 37s 385ms/step - loss: 1.3762 - accuracy: 0.5328 - val_loss: 1.0696 - val_accuracy: 0.6042\n",
      "Epoch 5/10\n",
      "96/96 [==============================] - 38s 393ms/step - loss: 1.0590 - accuracy: 0.6299 - val_loss: 0.7657 - val_accuracy: 0.6875\n",
      "Epoch 6/10\n",
      "96/96 [==============================] - 37s 390ms/step - loss: 0.7794 - accuracy: 0.7638 - val_loss: 0.7731 - val_accuracy: 0.7083\n",
      "Epoch 7/10\n",
      "96/96 [==============================] - 38s 398ms/step - loss: 0.7104 - accuracy: 0.7769 - val_loss: 0.6004 - val_accuracy: 0.7812\n",
      "Epoch 8/10\n",
      "96/96 [==============================] - 40s 413ms/step - loss: 0.6598 - accuracy: 0.8005 - val_loss: 0.4603 - val_accuracy: 0.8333\n",
      "Epoch 9/10\n",
      "96/96 [==============================] - 40s 417ms/step - loss: 0.3176 - accuracy: 0.8950 - val_loss: 0.3155 - val_accuracy: 0.8958\n",
      "Epoch 10/10\n",
      "96/96 [==============================] - 41s 429ms/step - loss: 0.2685 - accuracy: 0.9186 - val_loss: 0.3297 - val_accuracy: 0.8958\n"
     ]
    },
    {
     "data": {
      "text/plain": [
       "<keras.callbacks.History at 0x7f8f9f666940>"
      ]
     },
     "execution_count": 209,
     "metadata": {},
     "output_type": "execute_result"
    }
   ],
   "source": [
    "model2.compile(optimizer='Adam', loss='sparse_categorical_crossentropy', metrics=['accuracy'])\n",
    "model2.fit(X_train, y_train, epochs = 10, batch_size = 4, shuffle = True, validation_split = 0.2)"
   ]
  },
  {
   "cell_type": "code",
   "execution_count": 210,
   "id": "28988dc9",
   "metadata": {},
   "outputs": [
    {
     "name": "stdout",
     "output_type": "stream",
     "text": [
      "2/2 [==============================] - 1s 278ms/step - loss: 0.2192 - accuracy: 0.9259\n"
     ]
    },
    {
     "data": {
      "text/plain": [
       "[0.2192440778017044, 0.9259259104728699]"
      ]
     },
     "execution_count": 210,
     "metadata": {},
     "output_type": "execute_result"
    }
   ],
   "source": [
    "model2.evaluate(X_test, y_test)"
   ]
  },
  {
   "cell_type": "code",
   "execution_count": 211,
   "id": "d395bc57",
   "metadata": {},
   "outputs": [
    {
     "name": "stdout",
     "output_type": "stream",
     "text": [
      "15/15 [==============================] - 6s 389ms/step - loss: 0.2238 - accuracy: 0.9329\n"
     ]
    },
    {
     "data": {
      "text/plain": [
       "[0.2238004058599472, 0.9329140186309814]"
      ]
     },
     "execution_count": 211,
     "metadata": {},
     "output_type": "execute_result"
    }
   ],
   "source": [
    "model2.evaluate(X_train, y_train)"
   ]
  },
  {
   "cell_type": "code",
   "execution_count": 212,
   "id": "f49e7190",
   "metadata": {},
   "outputs": [
    {
     "name": "stdout",
     "output_type": "stream",
     "text": [
      "black\n",
      "black\n",
      "cold\n",
      "bird\n",
      "black\n",
      "ball\n",
      "ball\n",
      "apple\n",
      "baby\n",
      "cold\n",
      "cold\n",
      "ball\n",
      "baby\n",
      "ball\n",
      "drink\n",
      "apple\n",
      "bad\n",
      "cold\n",
      "cold\n",
      "black\n",
      "bad\n",
      "bad\n",
      "cold\n",
      "big\n",
      "baby\n",
      "bird\n",
      "apple\n",
      "black\n",
      "black\n",
      "bad\n",
      "cold\n",
      "big\n",
      "black\n",
      "ball\n",
      "apple\n",
      "bad\n",
      "baby\n",
      "apple\n",
      "big\n",
      "bad\n",
      "drink\n",
      "big\n",
      "cold\n",
      "coffee\n",
      "coffee\n",
      "big\n",
      "cold\n",
      "baby\n",
      "ball\n",
      "bad\n",
      "cold\n",
      "baby\n",
      "ball\n",
      "bad\n"
     ]
    }
   ],
   "source": [
    "for i in range(len(y_test)):\n",
    "    print(name_list[y_test[i]])"
   ]
  },
  {
   "cell_type": "code",
   "execution_count": 180,
   "id": "ba557c36",
   "metadata": {},
   "outputs": [],
   "source": [
    "tmp_test = tmp_test.reshape(1, 20, 64, 64, 3)"
   ]
  },
  {
   "cell_type": "code",
   "execution_count": 183,
   "id": "40156fde",
   "metadata": {},
   "outputs": [],
   "source": [
    "result = model2.predict(tmp_test)"
   ]
  },
  {
   "cell_type": "code",
   "execution_count": 184,
   "id": "a6829fcc",
   "metadata": {},
   "outputs": [
    {
     "name": "stdout",
     "output_type": "stream",
     "text": [
      "big\n"
     ]
    }
   ],
   "source": [
    "print(name_list[np.argmax(result)])"
   ]
  },
  {
   "cell_type": "code",
   "execution_count": null,
   "id": "2800c37b",
   "metadata": {},
   "outputs": [],
   "source": []
  }
 ],
 "metadata": {
  "kernelspec": {
   "display_name": "Python 3 (ipykernel)",
   "language": "python",
   "name": "python3"
  },
  "language_info": {
   "codemirror_mode": {
    "name": "ipython",
    "version": 3
   },
   "file_extension": ".py",
   "mimetype": "text/x-python",
   "name": "python",
   "nbconvert_exporter": "python",
   "pygments_lexer": "ipython3",
   "version": "3.8.12"
  }
 },
 "nbformat": 4,
 "nbformat_minor": 5
}
