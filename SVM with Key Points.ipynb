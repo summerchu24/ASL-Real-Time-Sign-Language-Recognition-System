{
 "cells": [
  {
   "cell_type": "code",
   "execution_count": 1,
   "id": "f9028f6a",
   "metadata": {},
   "outputs": [],
   "source": [
    "import cv2\n",
    "import numpy as np\n",
    "import pandas as pd\n",
    "import os\n",
    "from os.path import basename, join\n",
    "import glob\n",
    "from matplotlib import pyplot as plt\n",
    "import mediapipe as mp\n",
    "import warnings\n",
    "from sklearn.preprocessing import MinMaxScaler\n",
    "from sklearn.model_selection import train_test_split\n",
    "from sklearn.metrics import accuracy_score, recall_score, f1_score\n",
    "import sklearn.svm as svm\n",
    "warnings.simplefilter(action='ignore', category=FutureWarning)"
   ]
  },
  {
   "cell_type": "code",
   "execution_count": 2,
   "id": "1c6d7119",
   "metadata": {},
   "outputs": [],
   "source": [
    "mp_holistic = mp.solutions.holistic # Holistic model\n",
    "mp_drawing = mp.solutions.drawing_utils # Drawing utilities"
   ]
  },
  {
   "cell_type": "code",
   "execution_count": 3,
   "id": "2a376389",
   "metadata": {},
   "outputs": [],
   "source": [
    "def mediapipe_detection(image, model):\n",
    "    RGB = cv2.cvtColor(image, cv2.COLOR_BGR2RGB) # convert color to RGB\n",
    "    image.flags.writeable = False                  \n",
    "    res = model.process(RGB)                 # Make prediction\n",
    "    image.flags.writeable = True                   \n",
    "    BGR = cv2.cvtColor(image, cv2.COLOR_RGB2BGR) # convert color back to BGR\n",
    "    return BGR, res"
   ]
  },
  {
   "cell_type": "code",
   "execution_count": 4,
   "id": "93510d66",
   "metadata": {},
   "outputs": [],
   "source": [
    "#get keypoints of left hand and right hand and pose\n",
    "def extract_keypoints(results):\n",
    "    pose = np.array([[res.x, res.y, res.z, res.visibility] for res in results.pose_landmarks.landmark]).flatten() if results.pose_landmarks else np.zeros(33*4)\n",
    "    lh = np.array([[res.x, res.y, res.z] for res in results.left_hand_landmarks.landmark]).flatten() if results.left_hand_landmarks else np.zeros(21*3)\n",
    "    rh = np.array([[res.x, res.y, res.z] for res in results.right_hand_landmarks.landmark]).flatten() if results.right_hand_landmarks else np.zeros(21*3)\n",
    "    return np.concatenate([pose, lh, rh])"
   ]
  },
  {
   "cell_type": "code",
   "execution_count": 5,
   "id": "25cdb0c0",
   "metadata": {},
   "outputs": [],
   "source": [
    "def get_lists(folder):\n",
    "    name_list = []\n",
    "    path_list = []\n",
    "    label = []\n",
    "    num = 0\n",
    "    for i in glob.glob(join(folder, '*')):\n",
    "        name_list.append(basename(i))\n",
    "        for j in glob.glob(join(i, '*.mp4')):\n",
    "            path_list.append(j)\n",
    "            label.append(num)\n",
    "        num = num+1\n",
    "    return name_list, path_list, label"
   ]
  },
  {
   "cell_type": "code",
   "execution_count": 6,
   "id": "c11cdfad",
   "metadata": {},
   "outputs": [],
   "source": [
    "def frame_select(frames):\n",
    "    result_frames = []\n",
    "    for i in range(20):\n",
    "        index = (i+1)*int(len(frames)/21)\n",
    "        result_frames.append(frames[index])\n",
    "    return result_frames"
   ]
  },
  {
   "cell_type": "code",
   "execution_count": 7,
   "id": "e2d8c7c3",
   "metadata": {},
   "outputs": [],
   "source": [
    "def read_data(path_list):\n",
    "    data = []\n",
    "    for path in path_list:\n",
    "        cap = cv2.VideoCapture(path)\n",
    "        frames = 0\n",
    "        #select 20 frames, every frame has 258 keypoints\n",
    "        color_df = np.zeros((20,258))\n",
    "        index = 0\n",
    "\n",
    "        # Set mediapipe model\n",
    "        with mp_holistic.Holistic(min_detection_confidence=0.5, min_tracking_confidence=0.5) as holistic:\n",
    "            while cap.isOpened() and index<=19:\n",
    "                # Read feed\n",
    "                ret, frame = cap.read()\n",
    "                if not ret:\n",
    "                    break\n",
    "                if frames%6 == 0:\n",
    "                    # Make detections\n",
    "                    image, results = mediapipe_detection(frame, holistic)\n",
    "                    #print(results)\n",
    "                    keypoints = extract_keypoints(results)\n",
    "                    color_df[index,:] = keypoints\n",
    "                    index+=1\n",
    "                frames +=1\n",
    "        \n",
    "        #padding,if the video is less than 20 frame, use the last one frame to pad for the rest\n",
    "        if index <19:\n",
    "            color_df[index:,:] = color_df[index-1,:]\n",
    "        data.append(color_df)\n",
    "    print('extraction of key points completed')\n",
    "    return np.array(data)"
   ]
  },
  {
   "cell_type": "code",
   "execution_count": 8,
   "id": "143364fd",
   "metadata": {},
   "outputs": [
    {
     "name": "stdout",
     "output_type": "stream",
     "text": [
      "extraction of key points completed\n",
      "(344, 20, 258)\n"
     ]
    }
   ],
   "source": [
    "name_list, path_list, label = get_lists(r'D:\\coursera\\video\\788 nerual\\dataset\\project\\new_self_data')\n",
    "data = read_data(path_list)\n",
    "print(data.shape)"
   ]
  },
  {
   "cell_type": "code",
   "execution_count": 9,
   "id": "c86e98ca",
   "metadata": {},
   "outputs": [],
   "source": [
    "#Normalization\n",
    "def scalers(data):\n",
    "    new_data = data\n",
    "    mms = MinMaxScaler(feature_range = (0,1))\n",
    "    for i in range(new_data.shape[0]):\n",
    "        new_data[i, :, :] = mms.fit_transform(new_data[i, :, :])\n",
    "\n",
    "    return new_data"
   ]
  },
  {
   "cell_type": "code",
   "execution_count": 10,
   "id": "d92bfab3",
   "metadata": {},
   "outputs": [],
   "source": [
    "#Normalize the data\n",
    "or_data = scalers(data)\n",
    "label = np.array(label)\n"
   ]
  },
  {
   "cell_type": "code",
   "execution_count": 11,
   "id": "141733b7",
   "metadata": {},
   "outputs": [],
   "source": [
    "x_train, x_test, y_train, y_test = train_test_split(or_data, label, test_size=0.1,random_state=9)\n"
   ]
  },
  {
   "cell_type": "code",
   "execution_count": 12,
   "id": "cc9e1d9e",
   "metadata": {},
   "outputs": [
    {
     "name": "stdout",
     "output_type": "stream",
     "text": [
      "(309,)\n",
      "(35,)\n"
     ]
    }
   ],
   "source": [
    "print(y_train.shape)\n",
    "print(y_test.shape)"
   ]
  },
  {
   "cell_type": "code",
   "execution_count": 13,
   "id": "76ad238b",
   "metadata": {},
   "outputs": [
    {
     "name": "stdout",
     "output_type": "stream",
     "text": [
      "(309, 5160)\n",
      "(35, 5160)\n"
     ]
    }
   ],
   "source": [
    "#Reshape the data to 2 dimension Since SVM can't accept three dimension.\n",
    "Newtrain_x = (x_train.reshape(x_train.shape[0], -1))\n",
    "Newtest_x = (x_test.reshape(x_test.shape[0], -1))\n",
    "print(Newtrain_x.shape)\n",
    "print(Newtest_x.shape)"
   ]
  },
  {
   "cell_type": "code",
   "execution_count": 14,
   "id": "cd15ed4f",
   "metadata": {},
   "outputs": [],
   "source": [
    "def svc(kernel):\n",
    "    return svm.SVC(kernel=kernel, decision_function_shape=\"ovo\")\n",
    "\n",
    "\n",
    "def nusvc():\n",
    "    return svm.NuSVC(decision_function_shape=\"ovo\")\n",
    "\n",
    "\n",
    "def modelist():\n",
    "    #append different kernel for svc\n",
    "    modelist = []\n",
    "    kernalist = [\"linear\", \"poly\", \"sigmoid\", \"rbf\"]\n",
    "    for each in kernalist:\n",
    "        modelist.append(svc(each))\n",
    "    modelist.append(nusvc())\n",
    "    return modelist\n",
    "\n",
    "\n",
    "def svc_model(model):\n",
    "    #return the result\n",
    "    model.fit(Newtrain_x, y_train)\n",
    "    acu_train = model.score(Newtrain_x, y_train)\n",
    "    acu_test = model.score(Newtest_x, y_test)\n",
    "    y_pred = model.predict(Newtest_x)\n",
    "    recall = recall_score(y_test, y_pred, average=\"macro\")\n",
    "    f1score = f1_score(y_test, y_pred, average=\"macro\")\n",
    "    return acu_train, acu_test, recall, f1score\n",
    "\n",
    "def run_svc_model(modelist):\n",
    "    result = {\"kernel\": [],\n",
    "              \"acu_train\": [],\n",
    "              \"acu_test\": [],\n",
    "              \"recall\": [],\n",
    "              \"F1_score\":[]\n",
    "              }\n",
    "\n",
    "    for model in modelist:\n",
    "        acu_train, acu_test, recall,f1score = svc_model(model)\n",
    "        try:\n",
    "            result[\"kernel\"].append(model.kernel)\n",
    "        except:\n",
    "            result[\"kernel\"].append('Non')\n",
    "        result[\"acu_train\"].append(acu_train)\n",
    "        result[\"acu_test\"].append(acu_test)\n",
    "        result[\"recall\"].append(recall)\n",
    "        result[\"F1_score\"].append(f1score)\n",
    "\n",
    "    return pd.DataFrame(result)\n"
   ]
  },
  {
   "cell_type": "code",
   "execution_count": 15,
   "id": "4685dc15",
   "metadata": {
    "scrolled": true
   },
   "outputs": [
    {
     "name": "stdout",
     "output_type": "stream",
     "text": [
      "[SVC(decision_function_shape='ovo', kernel='linear'), SVC(decision_function_shape='ovo', kernel='poly'), SVC(decision_function_shape='ovo', kernel='sigmoid'), SVC(decision_function_shape='ovo'), NuSVC(decision_function_shape='ovo')]\n"
     ]
    },
    {
     "name": "stderr",
     "output_type": "stream",
     "text": [
      "C:\\Users\\53292\\anaconda3\\lib\\site-packages\\sklearn\\metrics\\_classification.py:1318: UndefinedMetricWarning: Recall is ill-defined and being set to 0.0 in labels with no true samples. Use `zero_division` parameter to control this behavior.\n",
      "  _warn_prf(average, modifier, msg_start, len(result))\n",
      "C:\\Users\\53292\\anaconda3\\lib\\site-packages\\sklearn\\metrics\\_classification.py:1318: UndefinedMetricWarning: Recall is ill-defined and being set to 0.0 in labels with no true samples. Use `zero_division` parameter to control this behavior.\n",
      "  _warn_prf(average, modifier, msg_start, len(result))\n",
      "C:\\Users\\53292\\anaconda3\\lib\\site-packages\\sklearn\\metrics\\_classification.py:1318: UndefinedMetricWarning: Recall is ill-defined and being set to 0.0 in labels with no true samples. Use `zero_division` parameter to control this behavior.\n",
      "  _warn_prf(average, modifier, msg_start, len(result))\n",
      "C:\\Users\\53292\\anaconda3\\lib\\site-packages\\sklearn\\metrics\\_classification.py:1318: UndefinedMetricWarning: Recall is ill-defined and being set to 0.0 in labels with no true samples. Use `zero_division` parameter to control this behavior.\n",
      "  _warn_prf(average, modifier, msg_start, len(result))\n",
      "C:\\Users\\53292\\anaconda3\\lib\\site-packages\\sklearn\\metrics\\_classification.py:1318: UndefinedMetricWarning: Recall is ill-defined and being set to 0.0 in labels with no true samples. Use `zero_division` parameter to control this behavior.\n",
      "  _warn_prf(average, modifier, msg_start, len(result))\n"
     ]
    }
   ],
   "source": [
    "model_list = modelist()\n",
    "print(model_list)\n",
    "res = run_svc_model(modelist())"
   ]
  },
  {
   "cell_type": "code",
   "execution_count": 16,
   "id": "79a7d2a6",
   "metadata": {},
   "outputs": [
    {
     "data": {
      "text/html": [
       "<div>\n",
       "<style scoped>\n",
       "    .dataframe tbody tr th:only-of-type {\n",
       "        vertical-align: middle;\n",
       "    }\n",
       "\n",
       "    .dataframe tbody tr th {\n",
       "        vertical-align: top;\n",
       "    }\n",
       "\n",
       "    .dataframe thead th {\n",
       "        text-align: right;\n",
       "    }\n",
       "</style>\n",
       "<table border=\"1\" class=\"dataframe\">\n",
       "  <thead>\n",
       "    <tr style=\"text-align: right;\">\n",
       "      <th></th>\n",
       "      <th>type</th>\n",
       "      <th>kernel</th>\n",
       "      <th>acu_train</th>\n",
       "      <th>acu_test</th>\n",
       "      <th>recall</th>\n",
       "      <th>F1_score</th>\n",
       "    </tr>\n",
       "  </thead>\n",
       "  <tbody>\n",
       "    <tr>\n",
       "      <th>0</th>\n",
       "      <td>svc</td>\n",
       "      <td>linear</td>\n",
       "      <td>1.000000</td>\n",
       "      <td>0.885714</td>\n",
       "      <td>0.831250</td>\n",
       "      <td>0.811508</td>\n",
       "    </tr>\n",
       "    <tr>\n",
       "      <th>1</th>\n",
       "      <td>svc</td>\n",
       "      <td>poly</td>\n",
       "      <td>1.000000</td>\n",
       "      <td>0.885714</td>\n",
       "      <td>0.831250</td>\n",
       "      <td>0.811508</td>\n",
       "    </tr>\n",
       "    <tr>\n",
       "      <th>2</th>\n",
       "      <td>svc</td>\n",
       "      <td>sigmoid</td>\n",
       "      <td>0.362460</td>\n",
       "      <td>0.200000</td>\n",
       "      <td>0.262500</td>\n",
       "      <td>0.166071</td>\n",
       "    </tr>\n",
       "    <tr>\n",
       "      <th>3</th>\n",
       "      <td>svc</td>\n",
       "      <td>rbf</td>\n",
       "      <td>0.987055</td>\n",
       "      <td>0.857143</td>\n",
       "      <td>0.815625</td>\n",
       "      <td>0.789335</td>\n",
       "    </tr>\n",
       "    <tr>\n",
       "      <th>4</th>\n",
       "      <td>nusvc</td>\n",
       "      <td>rbf</td>\n",
       "      <td>0.964401</td>\n",
       "      <td>0.857143</td>\n",
       "      <td>0.815625</td>\n",
       "      <td>0.789335</td>\n",
       "    </tr>\n",
       "  </tbody>\n",
       "</table>\n",
       "</div>"
      ],
      "text/plain": [
       "    type   kernel  acu_train  acu_test    recall  F1_score\n",
       "0    svc   linear   1.000000  0.885714  0.831250  0.811508\n",
       "1    svc     poly   1.000000  0.885714  0.831250  0.811508\n",
       "2    svc  sigmoid   0.362460  0.200000  0.262500  0.166071\n",
       "3    svc      rbf   0.987055  0.857143  0.815625  0.789335\n",
       "4  nusvc      rbf   0.964401  0.857143  0.815625  0.789335"
      ]
     },
     "execution_count": 16,
     "metadata": {},
     "output_type": "execute_result"
    }
   ],
   "source": [
    "res.insert(0,'type',['svc','svc','svc','svc','nusvc'])\n",
    "res"
   ]
  },
  {
   "cell_type": "code",
   "execution_count": 17,
   "id": "2d4257f5",
   "metadata": {},
   "outputs": [],
   "source": [
    "def svc_rbf(temp_c):\n",
    "    train = []\n",
    "    test = []\n",
    "    c = []\n",
    "    for i in range(1,temp_c):\n",
    "        modell = svm.SVC(C=i,kernel='linear', decision_function_shape=\"ovo\")\n",
    "        modell.fit(Newtrain_x, y_train)\n",
    "        acu_train = modell.score(Newtrain_x, y_train)\n",
    "        acu_test = modell.score(Newtest_x, y_test)\n",
    "        c.append(i)\n",
    "        train.append(acu_train)\n",
    "        test.append(acu_test)\n",
    "    return c,train,test\n",
    "        \n",
    "\n",
    "c_list, train_list, test_list = svc_rbf(20)\n",
    "    "
   ]
  },
  {
   "cell_type": "code",
   "execution_count": 18,
   "id": "c4d2fe93",
   "metadata": {},
   "outputs": [
    {
     "data": {
      "image/png": "[encoded data removed]",
      "text/plain": [
       "<Figure size 432x288 with 1 Axes>"
      ]
     },
     "metadata": {
      "needs_background": "light"
     },
     "output_type": "display_data"
    }
   ],
   "source": [
    "def plot_history(c_list, train_list, test_list):\n",
    "    plt.figure()\n",
    "    plt.xlabel('c')\n",
    "    plt.ylabel('accuracy')\n",
    "    plt.plot(c_list, train_list, label='Train Accuracy')\n",
    "    plt.plot(c_list, test_list, label='test Accuracy')\n",
    "    plt.legend()\n",
    "    \n",
    "\n",
    "plot_history(c_list, train_list, test_list)"
   ]
  },
  {
   "cell_type": "code",
   "execution_count": null,
   "id": "91f4a042",
   "metadata": {},
   "outputs": [],
   "source": []
  }
 ],
 "metadata": {
  "kernelspec": {
   "display_name": "Python 3 (ipykernel)",
   "language": "python",
   "name": "python3"
  },
  "language_info": {
   "codemirror_mode": {
    "name": "ipython",
    "version": 3
   },
   "file_extension": ".py",
   "mimetype": "text/x-python",
   "name": "python",
   "nbconvert_exporter": "python",
   "pygments_lexer": "ipython3",
   "version": "3.8.12"
  }
 },
 "nbformat": 4,
 "nbformat_minor": 5
}
